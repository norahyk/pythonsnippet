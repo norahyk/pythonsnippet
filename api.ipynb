{
  "nbformat": 4,
  "nbformat_minor": 0,
  "metadata": {
    "colab": {
      "name": "api.ipynb",
      "provenance": [],
      "authorship_tag": "ABX9TyPB3Vznqfv5Q/iZLhvmhalQ",
      "include_colab_link": true
    },
    "kernelspec": {
      "name": "python3",
      "display_name": "Python 3"
    },
    "language_info": {
      "name": "python"
    }
  },
  "cells": [
    {
      "cell_type": "markdown",
      "metadata": {
        "id": "view-in-github",
        "colab_type": "text"
      },
      "source": [
        "<a href=\"https://colab.research.google.com/github/norahyk/pythonsnippet/blob/main/api.ipynb\" target=\"_parent\"><img src=\"https://colab.research.google.com/assets/colab-badge.svg\" alt=\"Open In Colab\"/></a>"
      ]
    },
    {
      "cell_type": "code",
      "metadata": {
        "id": "o6IVf-FgWWbi"
      },
      "source": [
        "import pandas as pd\n",
        "import requests\n",
        "import json"
      ],
      "execution_count": null,
      "outputs": []
    },
    {
      "cell_type": "markdown",
      "metadata": {
        "id": "i9qaLSgYBz8g"
      },
      "source": [
        "# 祝日を取得"
      ]
    },
    {
      "cell_type": "code",
      "metadata": {
        "colab": {
          "base_uri": "https://localhost:8080/"
        },
        "id": "v_fAlWexWtWk",
        "outputId": "0941c3e4-3f33-4d6b-84e1-33d2eba8b4a6"
      },
      "source": [
        "url_fmt = 'https://holidays-jp.github.io/api/v1/{year}/date.json'\n",
        "year = '2021'\n",
        "res = requests.get(url_fmt.format(year=year))\n",
        "holidays = json.loads(res.content)\n",
        "holidays"
      ],
      "execution_count": null,
      "outputs": [
        {
          "output_type": "execute_result",
          "data": {
            "text/plain": [
              "{'2021-01-01': '元日',\n",
              " '2021-01-11': '成人の日',\n",
              " '2021-02-11': '建国記念の日',\n",
              " '2021-02-23': '天皇誕生日',\n",
              " '2021-03-20': '春分の日',\n",
              " '2021-04-29': '昭和の日',\n",
              " '2021-05-03': '憲法記念日',\n",
              " '2021-05-04': 'みどりの日',\n",
              " '2021-05-05': 'こどもの日',\n",
              " '2021-07-22': '海の日',\n",
              " '2021-07-23': 'スポーツの日',\n",
              " '2021-08-08': '山の日',\n",
              " '2021-08-09': '休日 山の日',\n",
              " '2021-09-20': '敬老の日',\n",
              " '2021-09-23': '秋分の日',\n",
              " '2021-11-03': '文化の日',\n",
              " '2021-11-23': '勤労感謝の日'}"
            ]
          },
          "metadata": {},
          "execution_count": 11
        }
      ]
    }
  ]
}